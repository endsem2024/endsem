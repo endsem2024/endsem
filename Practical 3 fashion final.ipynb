{
 "cells": [
  {
   "cell_type": "code",
   "execution_count": 1,
   "id": "9ccfae37",
   "metadata": {},
   "outputs": [
    {
     "name": "stdout",
     "output_type": "stream",
     "text": [
      "Epoch 1/2\n",
      "750/750 [==============================] - ETA: 0s - loss: 0.4088 - accuracy: 0.8564\n",
      "Epoch 1: val_accuracy improved from -inf to 0.88642, saving model to best_model.hdf5\n",
      "750/750 [==============================] - 48s 62ms/step - loss: 0.4088 - accuracy: 0.8564 - val_loss: 0.3174 - val_accuracy: 0.8864 - lr: 0.0010\n",
      "Epoch 2/2\n",
      "  2/750 [..............................] - ETA: 49s - loss: 0.3287 - accuracy: 0.8672"
     ]
    },
    {
     "name": "stderr",
     "output_type": "stream",
     "text": [
      "C:\\Users\\rajes\\AppData\\Local\\Programs\\Python\\Python311\\Lib\\site-packages\\keras\\src\\engine\\training.py:3079: UserWarning: You are saving your model as an HDF5 file via `model.save()`. This file format is considered legacy. We recommend using instead the native Keras format, e.g. `model.save('my_model.keras')`.\n",
      "  saving_api.save_model(\n"
     ]
    },
    {
     "name": "stdout",
     "output_type": "stream",
     "text": [
      "750/750 [==============================] - ETA: 0s - loss: 0.3009 - accuracy: 0.8916\n",
      "Epoch 2: val_accuracy improved from 0.88642 to 0.89242, saving model to best_model.hdf5\n",
      "750/750 [==============================] - 44s 59ms/step - loss: 0.3009 - accuracy: 0.8916 - val_loss: 0.2958 - val_accuracy: 0.8924 - lr: 0.0010\n",
      "Test loss: 0.29153043031692505\n",
      "Test accuracy: 0.895799994468689\n"
     ]
    }
   ],
   "source": [
    "import numpy as np\n",
    "import pandas as pd\n",
    "from keras.utils import to_categorical\n",
    "from keras.layers import Conv2D, MaxPooling2D, Dropout, Flatten, Dense, BatchNormalization\n",
    "from keras.models import Sequential\n",
    "from keras.callbacks import ReduceLROnPlateau, EarlyStopping, ModelCheckpoint\n",
    "from sklearn.model_selection import train_test_split\n",
    "\n",
    "# Load Data\n",
    "train = pd.read_csv(\"fashion-mnist_train.csv\")\n",
    "test = pd.read_csv(\"fashion-mnist_test.csv\")\n",
    "\n",
    "# Data Preprocessing\n",
    "X_train = train.iloc[:, 1:].values.reshape(-1, 28, 28, 1) / 255.0\n",
    "X_test = test.iloc[:, 1:].values.reshape(-1, 28, 28, 1) / 255.0\n",
    "Y_train = to_categorical(train['label'].values)\n",
    "Y_test = to_categorical(test['label'].values)\n",
    "\n",
    "# Model\n",
    "model = Sequential([\n",
    "    Conv2D(32, kernel_size=(3, 3), activation='relu', padding='same', input_shape=(28, 28, 1)),\n",
    "    MaxPooling2D(pool_size=(2, 2)),\n",
    "    Dropout(0.25),\n",
    "    Flatten(),\n",
    "    Dense(256, activation='relu'),\n",
    "    BatchNormalization(),\n",
    "    Dropout(0.25),\n",
    "    Dense(10, activation='softmax')  # 10 here is same as number of labels in dataset\n",
    "])\n",
    "model.compile(optimizer='adam', loss='categorical_crossentropy', metrics=['accuracy'])\n",
    "\n",
    "# Train-test split\n",
    "X_train, X_val, Y_train, Y_val = train_test_split(X_train, Y_train, stratify=Y_train, test_size=0.2, random_state=66)\n",
    "\n",
    "# Callbacks\n",
    "reduce_lr = ReduceLROnPlateau(monitor='val_loss', factor=0.1, patience=2, verbose=1, min_lr=0.0001)\n",
    "early_stopping = EarlyStopping(monitor='val_loss', patience=5, verbose=1, restore_best_weights=True)\n",
    "checkpoint = ModelCheckpoint(\"best_model.hdf5\", monitor='val_accuracy', verbose=1, save_best_only=True)\n",
    "\n",
    "# Model training\n",
    "history = model.fit(X_train, Y_train, batch_size=64, epochs=2, validation_data=(X_val, Y_val),\n",
    "                    callbacks=[reduce_lr, early_stopping, checkpoint])\n",
    "# Evaluation\n"
   ]
  },
  {
   "cell_type": "code",
   "execution_count": 4,
   "id": "677634b0",
   "metadata": {},
   "outputs": [
    {
     "name": "stdout",
     "output_type": "stream",
     "text": [
      "Test loss: 0.29153043031692505\n",
      "Test accuracy:89.58%\n"
     ]
    }
   ],
   "source": [
    "test_loss, test_accuracy = model.evaluate(X_test, Y_test, verbose=0)\n",
    "print(\"Test loss:\", test_loss)\n",
    "print(f\"Test accuracy:{test_accuracy*100:.2f}%\" )"
   ]
  },
  {
   "cell_type": "code",
   "execution_count": null,
   "id": "7794c57a",
   "metadata": {},
   "outputs": [],
   "source": []
  }
 ],
 "metadata": {
  "kernelspec": {
   "display_name": "Python 3 (ipykernel)",
   "language": "python",
   "name": "python3"
  },
  "language_info": {
   "codemirror_mode": {
    "name": "ipython",
    "version": 3
   },
   "file_extension": ".py",
   "mimetype": "text/x-python",
   "name": "python",
   "nbconvert_exporter": "python",
   "pygments_lexer": "ipython3",
   "version": "3.11.1"
  }
 },
 "nbformat": 4,
 "nbformat_minor": 5
}
