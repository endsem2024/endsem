{
 "cells": [
  {
   "cell_type": "code",
   "execution_count": 4,
   "id": "677634b0",
   "metadata": {},
   "outputs": [
    {
     "name": "stdout",
     "output_type": "stream",
     "text": [
      "Test loss: 0.29153043031692505\n",
      "Test accuracy:89.58%\n"
     ]
    }
   ],
   "source": [
    "import numpy as np\n",
    "import pandas as pd\n",
    "from keras.utils import to_categorical\n",
    "from keras.layers import Conv2D, MaxPooling2D, Dropout, Flatten, Dense, BatchNormalization\n",
    "from keras.models import Sequential\n",
    "from keras.callbacks import ReduceLROnPlateau, EarlyStopping, ModelCheckpoint\n",
    "from sklearn.model_selection import train_test_split\n",
    "\n",
    "# Load Data\n",
    "train = pd.read_csv(\"fashion-mnist_train.csv\")\n",
    "test = pd.read_csv(\"fashion-mnist_test.csv\")\n",
    "\n",
    "# Data Preprocessing\n",
    "X_train = train.iloc[:, 1:].values.reshape(-1, 28, 28, 1) / 255.0\n",
    "X_test = test.iloc[:, 1:].values.reshape(-1, 28, 28, 1) / 255.0\n",
    "Y_train = to_categorical(train['label'].values)\n",
    "Y_test = to_categorical(test['label'].values)\n",
    "\n",
    "# Model\n",
    "model = Sequential([\n",
    "    Conv2D(32, kernel_size=(3, 3), activation='relu', padding='same', input_shape=(28, 28, 1)),\n",
    "    MaxPooling2D(pool_size=(2, 2)),\n",
    "    Dropout(0.25),\n",
    "    Flatten(),\n",
    "    Dense(256, activation='relu'),\n",
    "    BatchNormalization(),\n",
    "    Dropout(0.25),\n",
    "    Dense(10, activation='softmax')  # 10 here is same as number of labels in dataset\n",
    "])\n",
    "model.compile(optimizer='adam', loss='categorical_crossentropy', metrics=['accuracy'])\n",
    "\n",
    "# Train-test split\n",
    "X_train, X_val, Y_train, Y_val = train_test_split(X_train, Y_train, stratify=Y_train, test_size=0.2, random_state=66)\n",
    "\n",
    "# Callbacks\n",
    "reduce_lr = ReduceLROnPlateau(monitor='val_loss', factor=0.1, patience=2, verbose=1, min_lr=0.0001)\n",
    "early_stopping = EarlyStopping(monitor='val_loss', patience=5, verbose=1, restore_best_weights=True)\n",
    "checkpoint = ModelCheckpoint(\"best_model.hdf5\", monitor='val_accuracy', verbose=1, save_best_only=True)\n",
    "\n",
    "# Model training\n",
    "history = model.fit(X_train, Y_train, batch_size=64, epochs=2, validation_data=(X_val, Y_val),\n",
    "                    callbacks=[reduce_lr, early_stopping, checkpoint])\n",
    "# Evaluation\n",
    "\n",
    "\n",
    "test_loss, test_accuracy = model.evaluate(X_test, Y_test, verbose=0)\n",
    "print(\"Test loss:\", test_loss)\n",
    "print(f\"Test accuracy:{test_accuracy*100:.2f}%\" )"
   ]
  },
  {
   "cell_type": "code",
   "execution_count": null,
   "id": "7794c57a",
   "metadata": {},
   "outputs": [],
   "source": []
  }
 ],
 "metadata": {
  "kernelspec": {
   "display_name": "Python 3 (ipykernel)",
   "language": "python",
   "name": "python3"
  },
  "language_info": {
   "codemirror_mode": {
    "name": "ipython",
    "version": 3
   },
   "file_extension": ".py",
   "mimetype": "text/x-python",
   "name": "python",
   "nbconvert_exporter": "python",
   "pygments_lexer": "ipython3",
   "version": "3.11.1"
  }
 },
 "nbformat": 4,
 "nbformat_minor": 5
}
